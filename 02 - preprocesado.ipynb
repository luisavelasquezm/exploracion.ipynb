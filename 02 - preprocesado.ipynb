{
 "cells": [
  {
   "cell_type": "markdown",
   "id": "5c9fa6e5",
   "metadata": {},
   "source": [
    "---\n",
    "# **INTRODUCCIÓN** \n",
    "---\n",
    "\n",
    "\n",
    "Esta sección resume el análisis exploratorio y las decisiones tomadas en la fase inicial de preprocesamiento, necesarias para transformar los datos brutos en un formato óptimo para modelos de aprendizaje automático como Support Vector Machines (SVM). Se detallan las estrategias aplicadas y su justificación técnica.\n",
    "\n",
    "\n",
    "\n",
    "## 1. Análisis de datos originales (archivo 01)\n",
    "\n",
    "- Variables clave identificadas:\n",
    "  - 15 variables categóricas de alta cardinalidad  \n",
    "    *Ejemplo destacado:* ESTU_PRGM_ACADEMICO contiene 948 categorías distintas, planteando desafios para codificacion tradicional.\n",
    "  - 6 variables numéricas\n",
    "    Se incluyen variables con alta correlación  \n",
    "    *Ejemplo:* coef_2 y coef_4 tienen una correlación de 0.82, surge la posible necesidad de combinar o eliminar variables correlacionadas.\n",
    "  - Valores faltantes:\n",
    "    Entre 4.3% y 6.3% en variables categóricas estrategicas\n",
    "\n",
    "## 2. Decisiones para preprocesamiento\n",
    "\n",
    "- Ingeniería de características:\n",
    "  - Conversión de PERIODO a ANIO con el objetivo de capturar información\n",
    "  - Cálculo de ratios, sumas y diferencias entre coeficientes \n",
    "  - Simplificación de niveles educativos en una escala numérica\n",
    "  \n",
    "- Tratamiento de valores faltantes:\n",
    "  - Categóricas: imputación con la moda \n",
    "  - Numéricas: imputación con la mediana\n",
    "\n",
    "- Codificación de variables categóricas:\n",
    "  - Uso de Target Encoding para evitar la alta dimensionalidad que produciría One-Hot Encoding \n",
    "\n",
    "- Escalado de variables numéricas:\n",
    "  - Uso de StandardScaler para transformar variables a una distribución estándar (media 0, desviación estándar 1) \n",
    "\n",
    "## 3. Estructura del pipeline\n",
    "\n",
    "- Uso de ColumnTransformer para aplicar distintas transformaciones según el tipo de variable\n",
    "- Integración de TargetEncoder\n",
    "- El preprocesador se guarda en disco (preprocessor.joblib) para garantizar consistencia en producción\n",
    "\n",
    "## 4. Resultados a lograr\n",
    "\n",
    "- Dataset final con mas variables\n",
    "- Valores faltantes reducidos a 0%\n",
    "- Todas las variables categóricas convertidas a representaciones numéricas continuas\n",
    "- Variables numéricas estandarizadas\n",
    "\n",
    "## 5. Próximos pasos (archivo 03 - SVM)\n",
    "\n",
    "- Entrenamiento de un modelo SVM requerirá:\n",
    "  - Ajuste del parámetro C (control del margen de clasificación)\n",
    "  - Uso de kernel RBF para capturar relaciones no lineales\n",
    "  - Posible uso de pesos por clase para corregir desbalance leve\n",
    "\n",
    "- Consideraciones adicionales:\n",
    "  - Aplicar validación cruzada estratificada\n",
    "  - Posible reducción de dimensionalidad post-preprocesamiento (por ejemplo, con PCA o selección de características)\n",
    "\n"
   ]
  },
  {
   "cell_type": "markdown",
   "id": "a648262e",
   "metadata": {},
   "source": [
    "---\n",
    "# **PREPROCESAMIENTO**\n",
    "---\n",
    "\n",
    "Acontinuacion se realizara el preprocesamiento completo de los datos de entrenamiento y de prueba para el modelo de machine learning:\n",
    "- Limpieza\n",
    "- Ingeniería de características\n",
    "- Imputación de valores faltantes\n",
    "- Codificación de variables categóricas\n",
    "- Escalamiento de variables numéricas\n",
    "- Exportación de los datos transformados"
   ]
  },
  {
   "cell_type": "markdown",
   "id": "b6e2beac",
   "metadata": {},
   "source": [
    "## 1. Importación de librerías\n",
    "Se importan módulos para:\n",
    "- Manipulación de datos: pandas, numpy\n",
    "- Preprocesamiento y pipelines: sklearn\n",
    "- Codificación categórica: TargetEncoder\n",
    "- Serialización: joblib"
   ]
  },
  {
   "cell_type": "code",
   "execution_count": 2,
   "id": "567daf98",
   "metadata": {},
   "outputs": [],
   "source": [
    "import pandas as pd\n",
    "import numpy as np\n",
    "from sklearn.model_selection import train_test_split\n",
    "from sklearn.compose import ColumnTransformer\n",
    "from sklearn.pipeline import Pipeline\n",
    "from sklearn.impute import SimpleImputer\n",
    "from category_encoders import TargetEncoder\n",
    "from sklearn.preprocessing import StandardScaler\n",
    "import joblib"
   ]
  },
  {
   "cell_type": "markdown",
   "id": "db948fd6",
   "metadata": {},
   "source": [
    "\n",
    "## 2. Eliminación de columnas duplicadas\n",
    "Se eliminan duplicados de dos formas:\n",
    "- eliminar_columnas_duplicadas_por_contenido: elimina columnas aunque tengan diferente nombre, si todos sus valores son idénticos.\n",
    "- df.loc[:, ~df.columns.duplicated()]: elimina columnas con nombres duplicados, aunque sus contenidos difieran.\n"
   ]
  },
  {
   "cell_type": "code",
   "execution_count": 3,
   "id": "d3601a4f",
   "metadata": {},
   "outputs": [],
   "source": [
    "def eliminar_columnas_duplicadas_por_contenido(df):\n",
    "    columnas_a_eliminar = []\n",
    "    columnas = df.columns\n",
    "    for i in range(len(columnas)):\n",
    "        for j in range(i + 1, len(columnas)):\n",
    "            col1 = columnas[i]\n",
    "            col2 = columnas[j]\n",
    "            # Verificar si tienen los mismos valores (ignorando NaNs)\n",
    "            if df[col1].equals(df[col2]):\n",
    "                columnas_a_eliminar.append(col2)\n",
    "    return df.drop(columns=columnas_a_eliminar)"
   ]
  },
  {
   "cell_type": "markdown",
   "id": "24398c6a",
   "metadata": {},
   "source": [
    "## 3. Ingeniería de características personalizada\n",
    "La función feature_engineering(df) transforma el dataset original añadiendo nuevas variables y codificando otras.  \n",
    "crea varias nuevas columnas a partir de las existentes y aplica el tratamiento de valores faltantes:\n",
    "\n",
    "Transformaciones directas:\n",
    "- ANIO: Calculada a partir de PERIODO.\n",
    "- FAMI_EDUCACIONPADRE_SIMPL, FAMI_EDUCACIONMADRE_SIMPL: Simplificaciones de nivel educativo.\n",
    "\n",
    "Interacciones entre coeficientes:\n",
    "- COEF_RATIO: Relación entre coef_1 y coef_2.\n",
    "- COEF_SUMA: Suma de coef_1 a coef_4.\n",
    "- COEF_PROMEDIO: Promedio de los coeficientes.\n",
    "- COEF_MAX: Máximo entre coef_1 a coef_4.\n",
    "- COEF_MIN: Mínimo entre coef_1 a coef_4.\n",
    "- COEF_RANGO: Diferencia entre el máximo y el mínimo.\n",
    "- COEF_MEJORA: Cambio entre coef_4 y coef_1.\n",
    "\n",
    "Mapeos categóricos:\n",
    "- ESTU_HORAS_TRABAJO_NUM: Conversión de horas de trabajo a valores numéricos.\n",
    "- COEF_X_TRABAJO: Multiplicación entre COEF_PROMEDIO y ESTU_HORAS_TRABAJO_NUM.\n",
    "- ESTRATO_NUM: Conversión del estrato a número.\n",
    "- VULNERABLE: Indicador binario de vulnerabilidad.\n",
    "- ES_INGENIERIA: Identificación si el programa académico contiene \"INGENIERÍA\".\n",
    "- ES_LICENCIATURA: Identificación si el programa académico contiene \"LICENCIATURA\".\n"
   ]
  },
  {
   "cell_type": "code",
   "execution_count": null,
   "id": "c96c58b3",
   "metadata": {},
   "outputs": [],
   "source": [
    "def feature_engineering(df):\n",
    "    df = df.copy()\n",
    "    # Eliminar columnas duplicadas\n",
    "    df = eliminar_columnas_duplicadas_por_contenido(df)\n",
    "    df = df.loc[:, ~df.columns.duplicated()]\n",
    "    # Conversión de PERIODO a año\n",
    "    df['ANIO'] = (df['PERIODO'] - 20183) // 100 + 2018\n",
    "    # Interacciones entre coeficientes\n",
    "    df['COEF_RATIO'] = df['coef_1'] / (df['coef_2'] + 1e-6)\n",
    "    df['COEF_SUMA'] = df[['coef_1', 'coef_2', 'coef_3', 'coef_4']].sum(axis=1)\n",
    "    # Simplificación educación padres\n",
    "    educ_map = {'completa': 2, 'incompleta': 1, 'otros': 0}\n",
    "    for col in ['FAMI_EDUCACIONPADRE', 'FAMI_EDUCACIONMADRE']:\n",
    "        df[col + '_SIMPL'] = (\n",
    "            df[col]\n",
    "            .str.extract('(completa|incompleta)')[0]\n",
    "            .fillna('otros')\n",
    "            .map(educ_map))\n",
    "    # basadas en coeficientes\n",
    "    df['COEF_PROMEDIO'] = df[['coef_1', 'coef_2', 'coef_3', 'coef_4']].mean(axis=1)\n",
    "    df['COEF_MAX'] = df[['coef_1', 'coef_2', 'coef_3', 'coef_4']].max(axis=1)\n",
    "    df['COEF_MIN'] = df[['coef_1', 'coef_2', 'coef_3', 'coef_4']].min(axis=1)\n",
    "    df['COEF_RANGO'] = df['COEF_MAX'] - df['COEF_MIN']\n",
    "    df['COEF_MEJORA'] = df['coef_4'] - df['coef_1']\n",
    "    # Horas de trabajo en formato numérico\n",
    "    trabajo_map = {\n",
    "        '0': 0,\n",
    "        'Menos de 10 horas': 1,\n",
    "        'Entre 11 y 20 horas': 2,\n",
    "        'Entre 21 y 30 horas': 3,\n",
    "        'Más de 30 horas': 4}\n",
    "    df['ESTU_HORAS_TRABAJO_NUM'] = df['ESTU_HORASSEMANATRABAJA'].map(trabajo_map)\n",
    "    df['COEF_X_TRABAJO'] = df['COEF_PROMEDIO'] * df['ESTU_HORAS_TRABAJO_NUM']\n",
    "    # Estrato en formato numérico y vulnerabilidad\n",
    "    estrato_map = {\n",
    "        'Estrato 1': 1,\n",
    "        'Estrato 2': 2,\n",
    "        'Estrato 3': 3,\n",
    "        'Estrato 4': 4,\n",
    "        'Estrato 5': 5,\n",
    "        'Estrato 6': 6,}\n",
    "    df['ESTRATO_NUM'] = df['FAMI_ESTRATOVIVIENDA'].map(estrato_map)\n",
    "    df['VULNERABLE'] = ((df['ESTRATO_NUM'] <= 2) & (df['FAMI_TIENELAVADORA'] == 'No')).astype(int)\n",
    "    # Clasificación por programa académico\n",
    "    df['ES_INGENIERIA'] = df['ESTU_PRGM_ACADEMICO'].str.contains('INGENIERIA', case=False, na=False).astype(int)\n",
    "    df['ES_LICENCIATURA'] = df['ESTU_PRGM_ACADEMICO'].str.contains('LICENCIATURA', case=False, na=False).astype(int)\n",
    "    # Tratamiento de valores faltantes\n",
    "    # Categóricas: imputación con moda\n",
    "    categorical_cols = df.select_dtypes(include=['object', 'category']).columns\n",
    "    for col in categorical_cols:\n",
    "        mode = df[col].mode()\n",
    "        if not mode.empty:\n",
    "            df[col] = df[col].fillna(mode[0])\n",
    "    # Numéricas: imputación con mediana\n",
    "    numerical_cols = df.select_dtypes(include=['number']).columns\n",
    "    for col in numerical_cols:\n",
    "        df[col] = df[col].fillna(df[col].median())\n",
    "    return df.drop(columns=['PERIODO'], axis=1)\n"
   ]
  },
  {
   "cell_type": "markdown",
   "id": "c7e7b9c5",
   "metadata": {},
   "source": [
    "\n",
    "## 4. Carga de datos y aplicacion de ingenieria de caracteristicas\n",
    "- Lectura de train.csv y test.csv\n",
    "- Aplicación de feature_engineering() a ambos"
   ]
  },
  {
   "cell_type": "code",
   "execution_count": 8,
   "id": "4cdd0f05",
   "metadata": {},
   "outputs": [],
   "source": [
    "\n",
    "df_train = pd.read_csv('train.csv')\n",
    "df_test = pd.read_csv('test.csv')\n",
    "\n",
    "# Aplicar ingeniería de características\n",
    "df_train = feature_engineering(df_train)\n",
    "df_test = feature_engineering(df_test)"
   ]
  },
  {
   "cell_type": "markdown",
   "id": "0e5af21d",
   "metadata": {},
   "source": [
    "\n",
    "## 5. Separación de variables predictoras y objetivo\n",
    "- En train:\n",
    "  - X_train: variables predictoras\n",
    "  - y_train: variable objetivo (RENDIMIENTO_GLOBAL)\n",
    "- En test: se elimina la columna ID, resultando en X_test\n"
   ]
  },
  {
   "cell_type": "code",
   "execution_count": 11,
   "id": "b04cff94",
   "metadata": {},
   "outputs": [],
   "source": [
    "\n",
    "X_train = df_train.drop(columns=['ID', 'RENDIMIENTO_GLOBAL'])\n",
    "y_train = df_train['RENDIMIENTO_GLOBAL']\n",
    "X_test = df_test.drop(columns=['ID'], errors='ignore')"
   ]
  },
  {
   "cell_type": "markdown",
   "id": "550076b8",
   "metadata": {},
   "source": [
    "## 6. Definición de columnas numéricas y categóricas\n",
    "Se identifican automáticamente:\n",
    "- Numéricas: con select_dtypes(include=np.number)\n",
    "- Categóricas: con select_dtypes(exclude=np.number)"
   ]
  },
  {
   "cell_type": "code",
   "execution_count": 12,
   "id": "677772a2",
   "metadata": {},
   "outputs": [],
   "source": [
    "\n",
    "numeric_features = X_train.select_dtypes(include=np.number).columns.tolist()\n",
    "categorical_features = X_train.select_dtypes(exclude=np.number).columns.tolist()\n"
   ]
  },
  {
   "cell_type": "markdown",
   "id": "bfeee5e0",
   "metadata": {},
   "source": [
    "## 7. Creación del pipeline de preprocesamiento\n",
    "Se usa un ColumnTransformer con dos pipelines:\n",
    "\n",
    "- Para variables categóricas:\n",
    "  - Imputación: valor más frecuente (SimpleImputer)\n",
    "  - Codificación: TargetEncoder\n",
    "\n",
    "- Para variables numéricas:\n",
    "  - Imputación: mediana\n",
    "  - Escalamiento: StandardScaler"
   ]
  },
  {
   "cell_type": "code",
   "execution_count": 13,
   "id": "8dee0847",
   "metadata": {},
   "outputs": [],
   "source": [
    "preprocessor = ColumnTransformer([\n",
    "    ('cat', Pipeline([\n",
    "        ('imputer', SimpleImputer(strategy='most_frequent')),\n",
    "        ('encoder', TargetEncoder())\n",
    "    ]), categorical_features),\n",
    "    ('num', Pipeline([\n",
    "        ('imputer', SimpleImputer(strategy='median')),\n",
    "        ('scaler', StandardScaler())\n",
    "    ]), numeric_features)])\n"
   ]
  },
  {
   "cell_type": "markdown",
   "id": "505ebe85",
   "metadata": {},
   "source": [
    "## 8. Aplicación del preprocesador\n",
    "\n",
    "Ajustar con train, transformar test\n",
    "- fit_transform en X_train con y_train\n",
    "- transform en X_test"
   ]
  },
  {
   "cell_type": "code",
   "execution_count": 14,
   "id": "aae3f46c",
   "metadata": {},
   "outputs": [],
   "source": [
    "\n",
    "X_train_prep = preprocessor.fit_transform(X_train, y_train)\n",
    "X_test_prep = preprocessor.transform(X_test)\n"
   ]
  },
  {
   "cell_type": "markdown",
   "id": "1de85d9c",
   "metadata": {},
   "source": [
    "## 9. Guardado de resultados\n",
    "Se exportan:\n",
    "- El pipeline entrenado: preprocessor.joblib\n",
    "- Datos de entrenamiento: X_train_prep.csv, y_train.csv\n",
    "- Datos de prueba: X_test_prep.csv"
   ]
  },
  {
   "cell_type": "code",
   "execution_count": 16,
   "id": "4a6b7d32",
   "metadata": {},
   "outputs": [],
   "source": [
    "joblib.dump(preprocessor, 'preprocessor.joblib')\n",
    "pd.DataFrame(X_train_prep).to_csv('X_train_prep.csv', index=False)\n",
    "y_train.to_csv('y_train.csv', index=False)\n",
    "pd.DataFrame(X_test_prep).to_csv('X_test_prep.csv', index=False)"
   ]
  },
  {
   "cell_type": "markdown",
   "id": "39259d82",
   "metadata": {},
   "source": [
    "---\n",
    "# **VALIDACIÓN**\n",
    "---"
   ]
  },
  {
   "cell_type": "markdown",
   "id": "f6101a19",
   "metadata": {},
   "source": [
    "## 1. Tamaño de los datos\n",
    "\n",
    "- El conjunto de prueba (X_test) mantiene el mismo número de observaciones y columnas antes y después del preprocesamiento:\n",
    "  - Dimensión original: (296786, 33)\n",
    "  - Dimensión después del preprocesamiento: (296786, 33)\n",
    "- Esto indica que el pipeline no eliminó ni duplicó columnas ni filas, garantizando integridad en la transformación."
   ]
  },
  {
   "cell_type": "code",
   "execution_count": 17,
   "id": "7c1e689e",
   "metadata": {},
   "outputs": [
    {
     "name": "stdout",
     "output_type": "stream",
     "text": [
      "1) Tamaño de los datos:\n",
      "   - X_test original:      (296786, 33)\n",
      "   - X_test preprocesado:  (296786, 33)\n",
      "\n"
     ]
    }
   ],
   "source": [
    "# crearemos un DataFrame para la validacion\n",
    "columnas_train = X_train.columns.tolist()\n",
    "df_prep = pd.DataFrame(X_test_prep, columns=columnas_train)\n",
    "\n",
    "# 1. Tamaño antes y después\n",
    "print(\"1) Tamaño de los datos:\")\n",
    "print(f\"   - X_test original:      {X_test.shape}\")\n",
    "print(f\"   - X_test preprocesado:  {df_prep.shape}\\n\")\n"
   ]
  },
  {
   "cell_type": "markdown",
   "id": "68728d4e",
   "metadata": {},
   "source": [
    "## 2. Columnas (antes y después)\n",
    "\n",
    "- Las columnas presentes antes y después del preprocesamiento son idénticas en nombre y cantidad (33 en total).\n",
    "- Esto se debe a que el preprocessor está configurado para aplicar transformaciones in-place (como escalado y codificación), sin alterar el orden ni los nombres de las variables."
   ]
  },
  {
   "cell_type": "code",
   "execution_count": null,
   "id": "0686f774",
   "metadata": {},
   "outputs": [],
   "source": []
  },
  {
   "cell_type": "code",
   "execution_count": 18,
   "id": "861938df",
   "metadata": {},
   "outputs": [
    {
     "name": "stdout",
     "output_type": "stream",
     "text": [
      "2) Columnas:\n",
      "   - Columnas originales:\n",
      "     ['ESTU_PRGM_ACADEMICO', 'ESTU_PRGM_DEPARTAMENTO', 'ESTU_VALORMATRICULAUNIVERSIDAD', 'ESTU_HORASSEMANATRABAJA', 'FAMI_ESTRATOVIVIENDA', 'FAMI_TIENEINTERNET', 'FAMI_EDUCACIONPADRE', 'FAMI_TIENELAVADORA', 'FAMI_TIENEAUTOMOVIL', 'ESTU_PRIVADO_LIBERTAD', 'ESTU_PAGOMATRICULAPROPIO', 'FAMI_TIENECOMPUTADOR', 'FAMI_EDUCACIONMADRE', 'coef_1', 'coef_2', 'coef_3', 'coef_4', 'ANIO', 'COEF_RATIO', 'COEF_SUMA', 'FAMI_EDUCACIONPADRE_SIMPL', 'FAMI_EDUCACIONMADRE_SIMPL', 'COEF_PROMEDIO', 'COEF_MAX', 'COEF_MIN', 'COEF_RANGO', 'COEF_MEJORA', 'ESTU_HORAS_TRABAJO_NUM', 'COEF_X_TRABAJO', 'ESTRATO_NUM', 'VULNERABLE', 'ES_INGENIERIA', 'ES_LICENCIATURA']\n",
      "\n",
      "   - Columnas preprocesadas:\n",
      "     ['ESTU_PRGM_ACADEMICO', 'ESTU_PRGM_DEPARTAMENTO', 'ESTU_VALORMATRICULAUNIVERSIDAD', 'ESTU_HORASSEMANATRABAJA', 'FAMI_ESTRATOVIVIENDA', 'FAMI_TIENEINTERNET', 'FAMI_EDUCACIONPADRE', 'FAMI_TIENELAVADORA', 'FAMI_TIENEAUTOMOVIL', 'ESTU_PRIVADO_LIBERTAD', 'ESTU_PAGOMATRICULAPROPIO', 'FAMI_TIENECOMPUTADOR', 'FAMI_EDUCACIONMADRE', 'coef_1', 'coef_2', 'coef_3', 'coef_4', 'ANIO', 'COEF_RATIO', 'COEF_SUMA', 'FAMI_EDUCACIONPADRE_SIMPL', 'FAMI_EDUCACIONMADRE_SIMPL', 'COEF_PROMEDIO', 'COEF_MAX', 'COEF_MIN', 'COEF_RANGO', 'COEF_MEJORA', 'ESTU_HORAS_TRABAJO_NUM', 'COEF_X_TRABAJO', 'ESTRATO_NUM', 'VULNERABLE', 'ES_INGENIERIA', 'ES_LICENCIATURA']\n",
      "\n"
     ]
    }
   ],
   "source": [
    "# 2. Listado de columnas antes y después\n",
    "print(\"2) Columnas:\")\n",
    "print(\"   - Columnas originales:\")\n",
    "print(f\"     {X_test.columns.tolist()}\\n\")\n",
    "print(\"   - Columnas preprocesadas:\")\n",
    "print(f\"     {columnas_train}\\n\")\n"
   ]
  },
  {
   "cell_type": "markdown",
   "id": "d4b145da",
   "metadata": {},
   "source": [
    "## 3. Estadísticas descriptivas (cambio de escala)\n",
    "\n",
    "- Variables como coef_1 a coef_4 y ANIO, que tenían valores originales entre 0 y 1 (o constantes), fueron transformadas a una nueva escala.\n",
    "- Después del preprocesamiento, todas las variables numéricas presentan:\n",
    "  - Valores centrados y escalados con StandardScaler\n",
    "  - Media cercana a 1.49 en variables codificadas (por efecto del TargetEncoder)\n",
    "  - Menor dispersión y rango de valores ajustado a una escala numérica continua"
   ]
  },
  {
   "cell_type": "code",
   "execution_count": 19,
   "id": "ece6a724",
   "metadata": {},
   "outputs": [
    {
     "name": "stdout",
     "output_type": "stream",
     "text": [
      "3) Estadísticas descriptivas (numéricas):\n",
      "   - Antes:\n",
      "           count         mean       std     min       max\n",
      "coef_1  296786.0     0.268235  0.121352     0.0     0.663\n",
      "coef_2  296786.0     0.259989  0.094596     0.0     0.484\n",
      "coef_3  296786.0     0.262855  0.059635     0.0     0.322\n",
      "coef_4  296786.0     0.262450  0.067587     0.0     0.331\n",
      "ANIO    296786.0  2018.000000  0.000000  2018.0  2018.000\n",
      "\n",
      "   - Después:\n",
      "                                   count      mean       std       min  \\\n",
      "ESTU_PRGM_ACADEMICO             296786.0  1.492128  0.286602  0.087337   \n",
      "ESTU_PRGM_DEPARTAMENTO          296786.0  1.491732  0.101436  1.237766   \n",
      "ESTU_VALORMATRICULAUNIVERSIDAD  296786.0  1.491927  0.269067  0.760932   \n",
      "ESTU_HORASSEMANATRABAJA         296786.0  1.491188  0.128043  1.248992   \n",
      "FAMI_ESTRATOVIVIENDA            296786.0  1.491693  0.190050  0.791987   \n",
      "\n",
      "                                     max  \n",
      "ESTU_PRGM_ACADEMICO             2.083367  \n",
      "ESTU_PRGM_DEPARTAMENTO          1.873358  \n",
      "ESTU_VALORMATRICULAUNIVERSIDAD  1.677611  \n",
      "ESTU_HORASSEMANATRABAJA         1.601547  \n",
      "FAMI_ESTRATOVIVIENDA            1.647141  \n",
      "\n"
     ]
    }
   ],
   "source": [
    "# 3. Estadísticas descriptivas (numéricas)\n",
    "print(\"3) Estadísticas descriptivas (numéricas):\")\n",
    "print(\"   - Antes:\")\n",
    "print(X_test.select_dtypes(include=np.number).describe().T[['count','mean','std','min','max']].head(5))\n",
    "print(\"\\n   - Después:\")\n",
    "print(df_prep.select_dtypes(include=np.number).describe().T[['count','mean','std','min','max']].head(5))\n",
    "print()\n"
   ]
  },
  {
   "cell_type": "markdown",
   "id": "9c6ea836",
   "metadata": {},
   "source": [
    "## 4. Valores faltantes\n",
    "\n",
    "- Antes del preprocesamiento:\n",
    "  - Varias variables presentaban miles de valores faltantes (por ejemplo: ESTRATO_NUM, FAMI_EDUCACIONMADRE, FAMI_TIENEINTERNET, etc.)\n",
    "- Después del preprocesamiento:\n",
    "  - Todos los valores faltantes fueron imputados exitosamente  \n",
    "  - Esto garantiza que el modelo no se verá afectado por datos incompletos en la fase de predicción"
   ]
  },
  {
   "cell_type": "code",
   "execution_count": 25,
   "id": "00a2563f",
   "metadata": {},
   "outputs": [
    {
     "name": "stdout",
     "output_type": "stream",
     "text": [
      "4) Valores faltantes:\n",
      "ESTU_PRGM_ACADEMICO               0\n",
      "ESTU_PRGM_DEPARTAMENTO            0\n",
      "ESTU_VALORMATRICULAUNIVERSIDAD    0\n",
      "ESTU_HORASSEMANATRABAJA           0\n",
      "FAMI_ESTRATOVIVIENDA              0\n",
      "FAMI_TIENEINTERNET                0\n",
      "FAMI_EDUCACIONPADRE               0\n",
      "FAMI_TIENELAVADORA                0\n",
      "FAMI_TIENEAUTOMOVIL               0\n",
      "ESTU_PRIVADO_LIBERTAD             0\n",
      "ESTU_PAGOMATRICULAPROPIO          0\n",
      "FAMI_TIENECOMPUTADOR              0\n",
      "FAMI_EDUCACIONMADRE               0\n",
      "coef_1                            0\n",
      "coef_2                            0\n",
      "coef_3                            0\n",
      "coef_4                            0\n",
      "ANIO                              0\n",
      "COEF_RATIO                        0\n",
      "COEF_SUMA                         0\n",
      "FAMI_EDUCACIONPADRE_SIMPL         0\n",
      "FAMI_EDUCACIONMADRE_SIMPL         0\n",
      "COEF_PROMEDIO                     0\n",
      "COEF_MAX                          0\n",
      "COEF_MIN                          0\n",
      "COEF_RANGO                        0\n",
      "COEF_MEJORA                       0\n",
      "ESTU_HORAS_TRABAJO_NUM            0\n",
      "COEF_X_TRABAJO                    0\n",
      "ESTRATO_NUM                       0\n",
      "VULNERABLE                        0\n",
      "ES_INGENIERIA                     0\n",
      "ES_LICENCIATURA                   0\n",
      "dtype: int64\n"
     ]
    }
   ],
   "source": [
    "# 4. Conteo de valores faltantes\n",
    "print(\"4) Valores faltantes:\")\n",
    "print(df_prep.isnull().sum())\n"
   ]
  },
  {
   "cell_type": "markdown",
   "id": "ab204bea",
   "metadata": {},
   "source": [
    "## 5. Muestra de las primeras 5 filas\n",
    "\n",
    "- Antes del preprocesamiento:\n",
    "  - Las variables categóricas aparecen como texto (e.g., \"ADMINISTRACION DE EMPRESAS\", \"Si\", \"Estrato 2\")\n",
    "  - Las variables numéricas tienen escalas originales\n",
    "  \n",
    "- Después del preprocesamiento:\n",
    "  - Las variables categóricas han sido convertidas a valores numéricos continuos, mediante Target Encoding\n",
    "  - Las variables numéricas han sido estandarizadas (media 0, desviación estándar 1)\n",
    "  - El resultado es un dataset numérico puro, listo para ser usado por algoritmos como SVM\n"
   ]
  },
  {
   "cell_type": "code",
   "execution_count": 26,
   "id": "97d3f8c5",
   "metadata": {},
   "outputs": [
    {
     "name": "stdout",
     "output_type": "stream",
     "text": [
      "5) Muestra de las primeras 5 filas:\n",
      "   -- Original --\n",
      "                      ESTU_PRGM_ACADEMICO ESTU_PRGM_DEPARTAMENTO  \\\n",
      "0                          TRABAJO SOCIAL                BOLIVAR   \n",
      "1  ADMINISTRACION COMERCIAL Y DE MERCADEO              ANTIOQUIA   \n",
      "2                  INGENIERIA MECATRONICA                 BOGOTÁ   \n",
      "3                      CONTADURIA PUBLICA                  SUCRE   \n",
      "4              ADMINISTRACION DE EMPRESAS              ATLANTICO   \n",
      "\n",
      "             ESTU_VALORMATRICULAUNIVERSIDAD ESTU_HORASSEMANATRABAJA  \\\n",
      "0                          Menos de 500 mil       Menos de 10 horas   \n",
      "1  Entre 2.5 millones y menos de 4 millones     Entre 21 y 30 horas   \n",
      "2    Entre 1 millón y menos de 2.5 millones                       0   \n",
      "3    Entre 1 millón y menos de 2.5 millones     Entre 21 y 30 horas   \n",
      "4  Entre 2.5 millones y menos de 4 millones     Entre 11 y 20 horas   \n",
      "\n",
      "  FAMI_ESTRATOVIVIENDA FAMI_TIENEINTERNET  \\\n",
      "0            Estrato 3                 Si   \n",
      "1            Estrato 2                 Si   \n",
      "2            Estrato 3                 Si   \n",
      "3            Estrato 1                 No   \n",
      "4            Estrato 2                 Si   \n",
      "\n",
      "                    FAMI_EDUCACIONPADRE FAMI_TIENELAVADORA  \\\n",
      "0        Técnica o tecnológica completa                 Si   \n",
      "1    Secundaria (Bachillerato) completa                 Si   \n",
      "2  Secundaria (Bachillerato) incompleta                 Si   \n",
      "3                   Primaria incompleta                 Si   \n",
      "4    Secundaria (Bachillerato) completa                 Si   \n",
      "\n",
      "  FAMI_TIENEAUTOMOVIL ESTU_PRIVADO_LIBERTAD  ... COEF_MAX COEF_MIN COEF_RANGO  \\\n",
      "0                  No                     N  ...    0.328    0.219      0.109   \n",
      "1                  No                     N  ...    0.324    0.227      0.097   \n",
      "2                  No                     N  ...    0.294    0.228      0.066   \n",
      "3                  No                     N  ...    0.408    0.160      0.248   \n",
      "4                  No                     N  ...    0.306    0.209      0.097   \n",
      "\n",
      "   COEF_MEJORA  ESTU_HORAS_TRABAJO_NUM  COEF_X_TRABAJO  ESTRATO_NUM  \\\n",
      "0       -0.081                     1.0         0.27775          3.0   \n",
      "1        0.097                     3.0         0.84750          2.0   \n",
      "2       -0.038                     0.0         0.00000          3.0   \n",
      "3        0.134                     3.0         0.80925          1.0   \n",
      "4        0.077                     2.0         0.54200          2.0   \n",
      "\n",
      "   VULNERABLE  ES_INGENIERIA  ES_LICENCIATURA  \n",
      "0           0              0                0  \n",
      "1           0              0                0  \n",
      "2           0              1                0  \n",
      "3           0              0                0  \n",
      "4           0              0                0  \n",
      "\n",
      "[5 rows x 33 columns]\n",
      "\n",
      "   -- Preprocesado --\n",
      "   ESTU_PRGM_ACADEMICO  ESTU_PRGM_DEPARTAMENTO  \\\n",
      "0             1.641652                1.576761   \n",
      "1             1.759834                1.407370   \n",
      "2             1.173698                1.458950   \n",
      "3             1.751135                1.716855   \n",
      "4             1.622211                1.481302   \n",
      "\n",
      "   ESTU_VALORMATRICULAUNIVERSIDAD  ESTU_HORASSEMANATRABAJA  \\\n",
      "0                        1.393569                 1.397782   \n",
      "1                        1.677611                 1.546686   \n",
      "2                        1.670511                 1.248992   \n",
      "3                        1.670511                 1.546686   \n",
      "4                        1.677611                 1.497285   \n",
      "\n",
      "   FAMI_ESTRATOVIVIENDA  FAMI_TIENEINTERNET  FAMI_EDUCACIONPADRE  \\\n",
      "0              1.482493            1.471704             1.452972   \n",
      "1              1.594431            1.471704             1.535179   \n",
      "2              1.482493            1.471704             1.609303   \n",
      "3              1.647141            1.661123             1.692119   \n",
      "4              1.594431            1.471704             1.535179   \n",
      "\n",
      "   FAMI_TIENELAVADORA  FAMI_TIENEAUTOMOVIL  ESTU_PRIVADO_LIBERTAD  ...  \\\n",
      "0             1.47259              1.56997               1.491767  ...   \n",
      "1             1.47259              1.56997               1.491767  ...   \n",
      "2             1.47259              1.56997               1.491767  ...   \n",
      "3             1.47259              1.56997               1.491767  ...   \n",
      "4             1.47259              1.56997               1.491767  ...   \n",
      "\n",
      "   COEF_MAX  COEF_MIN  COEF_RANGO  COEF_MEJORA  ESTU_HORAS_TRABAJO_NUM  \\\n",
      "0 -0.127740  0.484979   -0.353137    -0.501717               -0.962146   \n",
      "1 -0.167434  0.632374   -0.461254     0.684688                0.377846   \n",
      "2 -0.465145  0.650798   -0.740557    -0.215113               -1.632142   \n",
      "3  0.666156 -0.602058    0.899221     0.931300                0.377846   \n",
      "4 -0.346061  0.300735   -0.461254     0.551384               -0.292150   \n",
      "\n",
      "   COEF_X_TRABAJO  ESTRATO_NUM  VULNERABLE  ES_INGENIERIA  ES_LICENCIATURA  \n",
      "0       -0.928893     0.452949   -0.335114      -0.480863        -0.325333  \n",
      "1        0.449916    -0.465458   -0.335114      -0.480863        -0.325333  \n",
      "2       -1.601055     0.452949   -0.335114       2.079594        -0.325333  \n",
      "3        0.357350    -1.383866   -0.335114      -0.480863        -0.325333  \n",
      "4       -0.289401    -0.465458   -0.335114      -0.480863        -0.325333  \n",
      "\n",
      "[5 rows x 33 columns]\n",
      "\n"
     ]
    }
   ],
   "source": [
    "# 5. Muestra puntual (head) lado a lado\n",
    "print(\"5) Muestra de las primeras 5 filas:\")\n",
    "print(\"   -- Original --\")\n",
    "print(X_test.head(5))\n",
    "print(\"\\n   -- Preprocesado --\")\n",
    "print(df_prep.head(5))\n",
    "print()\n"
   ]
  },
  {
   "cell_type": "markdown",
   "id": "3621044d",
   "metadata": {},
   "source": [
    "## 6. Nuevas features añadidas\n",
    "\n",
    "- Durante la ingeniería de características se generaron 11 nuevas variables:\n",
    "  - Relacionadas con coeficientes:\n",
    "    - COEF_PROMEDIO, COEF_MAX, COEF_MIN, COEF_RANGO, COEF_MEJORA\n",
    "  - Transformaciones numéricas de variables categóricas:\n",
    "    - ESTU_HORAS_TRABAJO_NUM, ESTRATO_NUM\n",
    "  - Variables de interacción o categorización:\n",
    "    - COEF_X_TRABAJO, VULNERABLE, ES_INGENIERIA, ES_LICENCIATURA\n",
    "\n",
    "Estas nuevas variables amplían la representación de la información y capturan relaciones relevantes que podrían mejorar el desempeño del modelo."
   ]
  },
  {
   "cell_type": "code",
   "execution_count": 27,
   "id": "85c68e67",
   "metadata": {},
   "outputs": [
    {
     "name": "stdout",
     "output_type": "stream",
     "text": [
      "6) Nuevas features añadidas:\n",
      "   - COEF_PROMEDIO\n",
      "   - COEF_MAX\n",
      "   - COEF_MIN\n",
      "   - COEF_RANGO\n",
      "   - COEF_MEJORA\n",
      "   - ESTU_HORAS_TRABAJO_NUM\n",
      "   - COEF_X_TRABAJO\n",
      "   - ESTRATO_NUM\n",
      "   - VULNERABLE\n",
      "   - ES_INGENIERIA\n",
      "   - ES_LICENCIATURA\n"
     ]
    }
   ],
   "source": [
    "# 6. Resumen de nuevas features añadidas\n",
    "nuevas = [\n",
    "    'COEF_PROMEDIO', 'COEF_MAX', 'COEF_MIN', 'COEF_RANGO', 'COEF_MEJORA',\n",
    "    'ESTU_HORAS_TRABAJO_NUM', 'COEF_X_TRABAJO',\n",
    "    'ESTRATO_NUM', 'VULNERABLE',\n",
    "    'ES_INGENIERIA', 'ES_LICENCIATURA'\n",
    "]\n",
    "print(\"6) Nuevas features añadidas:\")\n",
    "for f in nuevas:\n",
    "    print(f\"   - {f}\")"
   ]
  }
 ],
 "metadata": {
  "kernelspec": {
   "display_name": "Python 3",
   "language": "python",
   "name": "python3"
  },
  "language_info": {
   "codemirror_mode": {
    "name": "ipython",
    "version": 3
   },
   "file_extension": ".py",
   "mimetype": "text/x-python",
   "name": "python",
   "nbconvert_exporter": "python",
   "pygments_lexer": "ipython3",
   "version": "3.13.2"
  }
 },
 "nbformat": 4,
 "nbformat_minor": 5
}
